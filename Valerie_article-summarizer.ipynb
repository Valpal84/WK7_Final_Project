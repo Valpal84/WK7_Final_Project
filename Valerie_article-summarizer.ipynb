{
 "cells": [
  {
   "cell_type": "markdown",
   "metadata": {},
   "source": [
    "# Web Mining and Applied NLP (44-620)\n",
    "\n",
    "## Final Project: Article Summarizer\n",
    "\n",
    "### Student Name: Valerie Johnson\n",
    "### Week 7-Final Project Repo: https://github.com/Valpal84/WK7_Final_Project\n",
    "\n",
    "Perform the tasks described in the Markdown cells below.  When you have completed the assignment make sure your code cells have all been run (and have output beneath them) and ensure you have committed and pushed ALL of your changes to your assignment repository.\n",
    "\n",
    "You should bring in code from previous assignments to help you answer the questions below.\n",
    "\n",
    "Every question that requires you to write code will have a code cell underneath it; you may either write your entire solution in that cell or write it in a python file (`.py`), then import and run the appropriate code to answer the question."
   ]
  },
  {
   "cell_type": "markdown",
   "metadata": {},
   "source": [
    "### Installing/importing necessary dependencies"
   ]
  },
  {
   "cell_type": "code",
   "execution_count": 51,
   "metadata": {},
   "outputs": [
    {
     "name": "stdout",
     "output_type": "stream",
     "text": [
      "Package                   Version\n",
      "------------------------- ------------\n",
      "annotated-types           0.7.0\n",
      "anyio                     4.0.0\n",
      "argon2-cffi               23.1.0\n",
      "argon2-cffi-bindings      21.2.0\n",
      "arrow                     1.2.3\n",
      "asttokens                 2.4.1\n",
      "async-lru                 2.0.4\n",
      "attrs                     23.1.0\n",
      "Babel                     2.12.1\n",
      "backcall                  0.2.0\n",
      "beautifulsoup4            4.12.2\n",
      "black                     23.9.1\n",
      "bleach                    6.0.0\n",
      "blis                      0.7.11\n",
      "catalogue                 2.0.10\n",
      "certifi                   2023.7.22\n",
      "cffi                      1.15.1\n",
      "charset-normalizer        3.2.0\n",
      "click                     8.1.7\n",
      "cloudpathlib              0.20.0\n",
      "colorama                  0.4.6\n",
      "comm                      0.2.2\n",
      "confection                0.1.5\n",
      "contourpy                 1.3.0\n",
      "cycler                    0.12.1\n",
      "cymem                     2.0.8\n",
      "debugpy                   1.8.8\n",
      "decorator                 5.1.1\n",
      "defusedxml                0.7.1\n",
      "en_core_web_sm            3.8.0\n",
      "executing                 2.1.0\n",
      "fastjsonschema            2.18.0\n",
      "fonttools                 4.54.1\n",
      "fqdn                      1.5.1\n",
      "html5lib                  1.1\n",
      "idna                      3.4\n",
      "ipykernel                 6.29.5\n",
      "ipython                   8.29.0\n",
      "isoduration               20.11.0\n",
      "jedi                      0.19.1\n",
      "Jinja2                    3.1.2\n",
      "joblib                    1.4.2\n",
      "json5                     0.9.14\n",
      "jsonpointer               2.4\n",
      "jsonschema                4.19.0\n",
      "jsonschema-specifications 2023.7.1\n",
      "jupyter_client            8.6.3\n",
      "jupyter_core              5.7.2\n",
      "jupyter-lsp               2.2.0\n",
      "jupyter_server_terminals  0.4.4\n",
      "jupyterlab-pygments       0.2.2\n",
      "jupyterlab_server         2.25.0\n",
      "kiwisolver                1.4.7\n",
      "langcodes                 3.4.1\n",
      "language_data             1.2.0\n",
      "marisa-trie               1.2.1\n",
      "markdown-it-py            3.0.0\n",
      "MarkupSafe                2.1.3\n",
      "matplotlib                3.9.2\n",
      "matplotlib-inline         0.1.7\n",
      "mdurl                     0.1.2\n",
      "mistune                   3.0.1\n",
      "murmurhash                1.0.10\n",
      "mypy-extensions           1.0.0\n",
      "nbclient                  0.8.0\n",
      "nbconvert                 7.8.0\n",
      "nbformat                  5.9.2\n",
      "nest-asyncio              1.6.0\n",
      "nltk                      3.9.1\n",
      "notebook_shim             0.2.3\n",
      "numpy                     1.26.4\n",
      "overrides                 7.4.0\n",
      "packaging                 24.2\n",
      "pandas                    2.1.1\n",
      "pandocfilters             1.5.0\n",
      "parso                     0.8.4\n",
      "pathspec                  0.11.2\n",
      "pickleshare               0.7.5\n",
      "pillow                    11.0.0\n",
      "pip                       24.0\n",
      "platformdirs              4.3.6\n",
      "preshed                   3.0.9\n",
      "prometheus-client         0.17.1\n",
      "prompt_toolkit            3.0.48\n",
      "psutil                    6.1.0\n",
      "psycopg2                  2.9.9\n",
      "pure_eval                 0.2.3\n",
      "pycparser                 2.21\n",
      "pydantic                  2.9.2\n",
      "pydantic_core             2.23.4\n",
      "Pygments                  2.18.0\n",
      "pyparsing                 3.2.0\n",
      "python-dateutil           2.9.0.post0\n",
      "python-json-logger        2.0.7\n",
      "pytz                      2023.3.post1\n",
      "pywin32                   308\n",
      "pywinpty                  2.0.11\n",
      "PyYAML                    6.0.1\n",
      "pyzmq                     26.2.0\n",
      "referencing               0.30.2\n",
      "regex                     2024.11.6\n",
      "requests                  2.31.0\n",
      "rfc3339-validator         0.1.4\n",
      "rfc3986-validator         0.1.1\n",
      "rich                      13.9.4\n",
      "rpds-py                   0.10.3\n",
      "ruff                      0.0.290\n",
      "Send2Trash                1.8.2\n",
      "setuptools                65.5.0\n",
      "shellingham               1.5.4\n",
      "six                       1.16.0\n",
      "smart-open                7.0.5\n",
      "sniffio                   1.3.0\n",
      "soupsieve                 2.5\n",
      "spacy                     3.8.0\n",
      "spacy-legacy              3.0.12\n",
      "spacy-loggers             1.0.5\n",
      "spacytextblob             5.0.0\n",
      "srsly                     2.4.8\n",
      "stack-data                0.6.3\n",
      "terminado                 0.17.1\n",
      "textblob                  0.18.0.post0\n",
      "thinc                     8.2.5\n",
      "tinycss2                  1.2.1\n",
      "tornado                   6.4.1\n",
      "tqdm                      4.67.0\n",
      "traitlets                 5.14.3\n",
      "typer                     0.13.0\n",
      "typing_extensions         4.12.2\n",
      "tzdata                    2023.3\n",
      "uri-template              1.3.0\n",
      "urllib3                   2.0.4\n",
      "wasabi                    1.1.3\n",
      "wcwidth                   0.2.13\n",
      "weasel                    0.4.1\n",
      "webcolors                 1.13\n",
      "webencodings              0.5.1\n",
      "websocket-client          1.6.3\n",
      "wheel                     0.41.2\n",
      "wrapt                     1.16.0\n",
      "All prereqs installed\n"
     ]
    },
    {
     "name": "stderr",
     "output_type": "stream",
     "text": [
      "\n",
      "[notice] A new release of pip is available: 24.0 -> 24.3.1\n",
      "[notice] To update, run: python.exe -m pip install --upgrade pip\n"
     ]
    }
   ],
   "source": [
    "# Create and activate a Python virtual environment. \n",
    "# Before starting the project, try all these imports FIRST\n",
    "# Address any errors you get running this code cell \n",
    "# by installing the necessary packages into your active Python environment.\n",
    "# Try to resolve issues using your materials and the web.\n",
    "# If that doesn't work, ask for help in the discussion forums.\n",
    "# You can't complete the exercises until you import these - start early! \n",
    "# We also import pickle and Counter (included in the Python Standard Library).\n",
    "\n",
    "from collections import Counter\n",
    "import pickle\n",
    "import requests\n",
    "import spacy\n",
    "from bs4 import BeautifulSoup\n",
    "import matplotlib.pyplot as plt\n",
    "\n",
    "!pip list\n",
    "print('All prereqs installed')"
   ]
  },
  {
   "cell_type": "markdown",
   "metadata": {},
   "source": [
    "### Question 1:"
   ]
  },
  {
   "cell_type": "markdown",
   "metadata": {},
   "source": [
    "1. Find on the internet an article or blog post about a topic that interests you and you are able to get the text for using the technologies we have applied in the course.  Get the html for the article and store it in a file (which you must submit with your project)"
   ]
  },
  {
   "cell_type": "code",
   "execution_count": 52,
   "metadata": {},
   "outputs": [
    {
     "name": "stdout",
     "output_type": "stream",
     "text": [
      "Fetch successful!\n",
      "Content-Type: application/json; charset=utf-8\n",
      "HTML file created: song_lyrics.html\n",
      "HTML loaded from pickle: \n",
      "    <!DOCTYPE html>\n",
      "    <html>\n",
      "    <head>\n",
      "        <title>Song Lyrics: Imagine Dragons - Demons</tit ...\n"
     ]
    }
   ],
   "source": [
    "import requests\n",
    "import pickle\n",
    "\n",
    "# Get the necessary article (lyrics in this case)\n",
    "response = requests.get('https://api.lyrics.ovh/v1/Imagine%20Dragons/Demons')\n",
    "\n",
    "# Check status of the fetch\n",
    "if response.status_code == 200:\n",
    "    print(\"Fetch successful!\")\n",
    "    print(\"Content-Type:\", response.headers['content-type'])\n",
    "\n",
    "    # Get the lyrics text\n",
    "    lyrics_data = response.json()  # The API returns JSON\n",
    "    lyrics = lyrics_data.get(\"lyrics\", \"No lyrics found.\")  # Extract lyrics\n",
    "\n",
    "    # Create a simple HTML structure\n",
    "    html_content = f\"\"\"\n",
    "    <!DOCTYPE html>\n",
    "    <html>\n",
    "    <head>\n",
    "        <title>Song Lyrics: Imagine Dragons - Demons</title>\n",
    "    </head>\n",
    "    <body>\n",
    "        <h1>Imagine Dragons - Demons</h1>\n",
    "        <pre>{lyrics}</pre>\n",
    "    </body>\n",
    "    </html>\n",
    "    \"\"\"\n",
    "\n",
    "    # Save the HTML to a file\n",
    "    with open('song_lyrics.html', 'w', encoding='utf-8') as html_file:\n",
    "        html_file.write(html_content)\n",
    "    print(\"HTML file created: song_lyrics.html\")\n",
    "\n",
    "    # Create a pickle file for HTML content\n",
    "    with open('song_html.pkl', 'wb') as pickle_file:\n",
    "        pickle.dump(html_content, pickle_file)\n",
    "\n",
    "    # Read back the pickle file\n",
    "    with open('song_html.pkl', 'rb') as pickle_file:\n",
    "        loaded_html = pickle.load(pickle_file)\n",
    "        print(\"HTML loaded from pickle:\", loaded_html[:100], \"...\")  # Print a snippet of the HTML\n",
    "else:\n",
    "    print(f\"Failed to fetch lyrics: {response.status_code}\")\n",
    "\n",
    "\n",
    "\n"
   ]
  },
  {
   "cell_type": "markdown",
   "metadata": {},
   "source": [
    "### Question 2:"
   ]
  },
  {
   "cell_type": "markdown",
   "metadata": {},
   "source": [
    "2. Read in your article's html source from the file you created in question 1 and do sentiment analysis on the article/post's text (use `.get_text()`).  Print the polarity score with an appropriate label.  Additionally print the number of sentences in the original article (with an appropriate label)"
   ]
  },
  {
   "cell_type": "code",
   "execution_count": 53,
   "metadata": {},
   "outputs": [
    {
     "name": "stdout",
     "output_type": "stream",
     "text": [
      "Processed lyrics text: When the days are cold. . And the cards all fold. . And the saints we see. . Are all made of gold. . ...\n",
      "The sentiment polarity of the lyrics is: -0.19 which is a Negative polarity score\n",
      "Number of sentences in the lyrics: 149\n"
     ]
    },
    {
     "name": "stderr",
     "output_type": "stream",
     "text": [
      "[nltk_data] Downloading package punkt_tab to\n",
      "[nltk_data]     C:\\Users\\Valer\\AppData\\Roaming\\nltk_data...\n",
      "[nltk_data]   Package punkt_tab is already up-to-date!\n"
     ]
    }
   ],
   "source": [
    "# Imports\n",
    "from textblob import TextBlob\n",
    "import nltk\n",
    "nltk.download('punkt_tab')\n",
    "\n",
    "\n",
    "#Read in HTML file\n",
    "with open('song_lyrics.html', 'r', encoding='utf-8') as html_file:\n",
    "    soup = BeautifulSoup(html_file, 'html.parser')\n",
    "\n",
    "#Extract the lyrics\n",
    "lyrics_text = soup.find('pre').get_text()\n",
    "\n",
    "#Process the lyrics to remove the \\n breaks and add periods so it doesn't interpret the entire lyric set as one sentence.\n",
    "processed_lyrics = lyrics_text.replace('\\n', '. ')\n",
    "\n",
    "#Print snippet of processed lyrics\n",
    "print(f\"Processed lyrics text:\", processed_lyrics[:100], \"...\")\n",
    "\n",
    "#Perform sentiment analysis\n",
    "blob = TextBlob(processed_lyrics)\n",
    "polarity = blob.sentiment.polarity\n",
    "\n",
    "#Create a sentiment label \n",
    "if polarity > 0:\n",
    "    sentiment_is = \"Positive\"\n",
    "elif polarity < 0:\n",
    "    sentiment_is = \"Negative\"\n",
    "else:\n",
    "    sentiment_is = \"Neutral\"\n",
    "\n",
    "#Print the sentiment polarity score and the appropriate label\n",
    "print(f\"The sentiment polarity of the lyrics is: {polarity:.2f} which is a {sentiment_is} polarity score\")\n",
    "\n",
    "#Count the number of sentences\n",
    "sentence_count = len(blob.sentences)\n",
    "\n",
    "#Print the number of sentences with an appropriate label\n",
    "print(f\"Number of sentences in the lyrics: {sentence_count}\")"
   ]
  },
  {
   "cell_type": "markdown",
   "metadata": {},
   "source": [
    "### Question 3:"
   ]
  },
  {
   "cell_type": "markdown",
   "metadata": {},
   "source": [
    "3. Load the article text into a trained `spaCy` pipeline, and determine the 5 most frequent tokens (converted to lower case).  Print the common tokens with an appropriate label.  Additionally, print the tokens their frequencies (with appropriate labels)"
   ]
  },
  {
   "cell_type": "code",
   "execution_count": 54,
   "metadata": {},
   "outputs": [
    {
     "name": "stdout",
     "output_type": "stream",
     "text": [
      "\u001b[1m\u001b[32mTop Five Most Frequent Tokens\u001b[0m\n",
      "Token:my, Frequency: 23\n",
      "Token:'s, Frequency: 21\n",
      "Token:it, Frequency: 18\n",
      "Token:the, Frequency: 15\n",
      "Token:hide, Frequency: 15\n"
     ]
    }
   ],
   "source": [
    "#Load spaCy pipeline\n",
    "nlp = spacy.load(\"en_core_web_sm\")\n",
    "\n",
    "#Process the lyrics with spaCy\n",
    "doc = nlp(processed_lyrics)\n",
    "\n",
    "#Filter common tokens, excluding punctuation and white space\n",
    "tokens = [token.text.lower() for token in doc if not token.is_punct and not token.is_space]\n",
    "\n",
    "#Count token frequencies\n",
    "token_frequencies = Counter(tokens)\n",
    "\n",
    "#Get the five most frequent tokens\n",
    "most_frequent_tokens = token_frequencies.most_common(5)\n",
    "\n",
    "#Print the five most common tokens and their frequencies\n",
    "print(\"\\033[1m\\033[32mTop Five Most Frequent Tokens\\033[0m\")\n",
    "for token, freq in most_frequent_tokens:\n",
    "    print(f\"Token:{token}, Frequency: {freq}\")"
   ]
  },
  {
   "cell_type": "markdown",
   "metadata": {},
   "source": [
    "4. Load the article text into a trained `spaCy` pipeline, and determine the 5 most frequent lemmas (converted to lower case).  Print the common lemmas with an appropriate label.  Additionally, print the lemmas with their frequencies (with appropriate labels)."
   ]
  },
  {
   "cell_type": "code",
   "execution_count": 55,
   "metadata": {},
   "outputs": [
    {
     "name": "stdout",
     "output_type": "stream",
     "text": [
      "\u001b[1m\u001b[32mMost common lemmas\u001b[0m\n",
      "Lemma: want, Frequency: 15\n",
      "Lemma: hide, Frequency: 15\n",
      "Lemma: inside, Frequency: 15\n",
      "Lemma: come, Frequency: 15\n",
      "Lemma: demon, Frequency: 15\n"
     ]
    }
   ],
   "source": [
    "#Load spaCy pipeline\n",
    "nlp = spacy.load(\"en_core_web_sm\")\n",
    "\n",
    "#Process the lyrics with spaCy\n",
    "doc = nlp(processed_lyrics)\n",
    "\n",
    "#Filter common tokens, excluding punctuation and white space\n",
    "tokens = [token for token in doc if token.is_alpha and not token.is_stop]\n",
    "\n",
    "#Count token frequencies\n",
    "token_frequencies = Counter(token.text.lower() for token in tokens)\n",
    "\n",
    "#Get the five most frequent tokens\n",
    "most_frequent_tokens = token_frequencies.most_common(5)\n",
    "\n",
    "#Retrieve lemmas for the most frequent tokens\n",
    "lemmas_with_frequencies = {\n",
    "    token.text.lower(): token.lemma_\n",
    "    for token in tokens\n",
    "    if token.text.lower() in dict(most_frequent_tokens)\n",
    "}\n",
    "\n",
    "#Print the common lemmas with frequencies\n",
    "print(\"\\033[1m\\033[32mMost common lemmas\\033[0m\")\n",
    "for token, lemma in lemmas_with_frequencies.items():\n",
    "    print(f\"Lemma: {lemma}, Frequency: {freq}\")"
   ]
  },
  {
   "cell_type": "markdown",
   "metadata": {},
   "source": [
    "### Question 5"
   ]
  },
  {
   "cell_type": "markdown",
   "metadata": {},
   "source": [
    "5. Make a list containing the scores (using tokens) of every sentence in the article, and plot a histogram with appropriate titles and axis labels of the scores. From your histogram, what seems to be the most common range of scores (put the answer in a comment after your code)?"
   ]
  },
  {
   "cell_type": "code",
   "execution_count": 56,
   "metadata": {},
   "outputs": [
    {
     "name": "stdout",
     "output_type": "stream",
     "text": [
      "Polarity scores for each sentence: [-0.6, 0.0, 0.0, 0.0, -0.5, 0.0, -1.0, -0.5, 0.0, 0.0, 0.0, 0.0, 0.0, 0.0, 0.0, 0.0, 0.0, 0.0, 0.0, 0.0, 0.0, 0.0, -0.15, 0.0, 0.0, 0.0, 0.0, 0.0, 0.0, 0.0, 0.0, 0.0, 0.0, -0.175, -0.15555555555555559, 0.0, 0.0, 0.0, 0.0, 0.0, 0.0, 0.0, 0.0, 0.0, 0.0, 0.0, 0.0, 0.0, -0.15, 0.0, 0.0, 0.0, 0.0, 0.0, 0.0, 0.7000000000000001, 0.4, 0.0, 0.0, 0.0, 0.0, 0.0, 0.0, 0.0, -0.15, 0.0, 0.0]\n",
      "Number of sentences in lyrics: 67\n"
     ]
    },
    {
     "data": {
      "image/png": "[encoded data removed]",
      "text/plain": [
       "<Figure size 1000x600 with 1 Axes>"
      ]
     },
     "metadata": {},
     "output_type": "display_data"
    }
   ],
   "source": [
    "#Imports\n",
    "import spacy\n",
    "from spacytextblob.spacytextblob import SpacyTextBlob\n",
    "import matplotlib.pyplot as plt\n",
    "from textblob import TextBlob\n",
    "\n",
    "# Calculate polarity using text blob\n",
    "def calculate_polarity(text):\n",
    "    return TextBlob(text).sentiment.polarity\n",
    "\n",
    "# Process the lyrics with spaCy\n",
    "doc = nlp(processed_lyrics)\n",
    "\n",
    "# Calculate the polarity scores for each sentence based on tokens\n",
    "sentence_polarity_scores = [\n",
    "    calculate_polarity(\" \".join([token.text for token in sent if token.is_alpha and not token.is_space]))\n",
    "    for sent in doc.sents\n",
    "]\n",
    "\n",
    "# Print the polarity scores\n",
    "print(\"Polarity scores for each sentence:\", sentence_polarity_scores)\n",
    "\n",
    "#Calculate and print number of sentences in lyrics\n",
    "num_sentences = len(list(doc.sents))\n",
    "print(\"Number of sentences in lyrics:\", num_sentences)\n",
    "\n",
    "# Plot the polarity scores as a histogram\n",
    "plt.figure(figsize=(10, 6))\n",
    "plt.hist(sentence_polarity_scores, bins=10, color='purple', edgecolor='black')\n",
    "plt.title(\"Histogram of Sentence Polarity Scores (Based on Tokens)\", fontsize=14)\n",
    "plt.xlabel(\"Polarity Score\", fontsize=12)\n",
    "plt.ylabel(\"Frequency\", fontsize=12)\n",
    "plt.grid(axis='y', linestyle='--', alpha=0.7)\n",
    "plt.show()\n",
    "\n",
    "# Comment your findings\n",
    "# The polarity scores have quite the range based on tokens. \n",
    "# From the histogram, the most common range of polarity scores appears to be between around -0.3 to a little over 0. \n"
   ]
  },
  {
   "cell_type": "markdown",
   "metadata": {},
   "source": [
    "## Question 6"
   ]
  },
  {
   "cell_type": "markdown",
   "metadata": {},
   "source": [
    "6. Make a list containing the scores (using lemmas) of every sentence in the article, and plot a histogram with appropriate titles and axis labels of the scores.  From your histogram, what seems to be the most common range of scores (put the answer in a comment after your code)?"
   ]
  },
  {
   "cell_type": "code",
   "execution_count": 57,
   "metadata": {},
   "outputs": [
    {
     "name": "stdout",
     "output_type": "stream",
     "text": [
      "Polarity scores for each sentence: [-0.6, 0.0, 0.0, 0.0, -0.5, 0.0, -0.6999999999999998, -0.5, 0.0, 0.0, 0.0, 0.0, 0.0, 0.0, 0.0, 0.0, 0.0, 0.0, 0.0, 0.0, 0.0, 0.0, -0.15, 0.0, 0.0, 0.0, 0.0, 0.0, 0.4, 0.0, 0.0, 0.0, 0.0, -0.175, -0.15555555555555559, 0.0, 0.0, 0.0, 0.0, 0.0, 0.0, 0.0, 0.0, 0.0, 0.0, 0.0, 0.0, 0.0, -0.15, 0.0, 0.0, 0.0, 0.0, 0.0, 0.0, 0.7000000000000001, 0.4, 0.0, 0.0, 0.0, 0.0, 0.0, 0.0, 0.0, -0.15, 0.0, 0.0]\n",
      "Number of sentences in lyrics: 67\n"
     ]
    },
    {
     "data": {
      "image/png": "[encoded data removed]",
      "text/plain": [
       "<Figure size 1000x600 with 1 Axes>"
      ]
     },
     "metadata": {},
     "output_type": "display_data"
    }
   ],
   "source": [
    "#Imports\n",
    "import spacy\n",
    "from spacytextblob.spacytextblob import SpacyTextBlob\n",
    "import matplotlib.pyplot as plt\n",
    "from textblob import TextBlob\n",
    "\n",
    "# Calculate polarity using text blob\n",
    "def calculate_polarity(text):\n",
    "    return TextBlob(text).sentiment.polarity\n",
    "\n",
    "# Process the lyrics with spaCy\n",
    "doc = nlp(processed_lyrics)\n",
    "\n",
    "# Calculate the polarity scores for each sentence based on lemmas\n",
    "sentence_polarity_scores_lemma = [\n",
    "    calculate_polarity(\" \".join([token.lemma_ for token in sent if token.is_alpha and not token.is_space]))\n",
    "    for sent in doc.sents\n",
    "]\n",
    "\n",
    "# Print the polarity scores\n",
    "print(\"Polarity scores for each sentence:\", sentence_polarity_scores_lemma)\n",
    "\n",
    "#Calculate and print number of sentences in lyrics\n",
    "num_sentences = len(list(doc.sents))\n",
    "print(\"Number of sentences in lyrics:\", num_sentences)\n",
    "\n",
    "# Plot the polarity scores as a histogram\n",
    "plt.figure(figsize=(10, 6))\n",
    "plt.hist(sentence_polarity_scores_lemma, bins=10, color='teal', edgecolor='black')\n",
    "plt.title(\"Histogram of Sentence Polarity Scores (Based on Lemmas)\", fontsize=14)\n",
    "plt.xlabel(\"Polarity Score\", fontsize=12)\n",
    "plt.ylabel(\"Frequency\", fontsize=12)\n",
    "plt.grid(axis='y', linestyle='--', alpha=0.7)\n",
    "plt.show()\n",
    "\n",
    "# Comment your findings\n",
    "# The polarity scores for the lemmas have a diver range like the tokens. However, the common lemma range is slightly less than that of the tokens. \n",
    "# From the histogram, the most common range of polarity scores appears to be between -0.3 and 0. \n"
   ]
  },
  {
   "cell_type": "markdown",
   "metadata": {},
   "source": [
    "### Question 7:"
   ]
  },
  {
   "cell_type": "markdown",
   "metadata": {},
   "source": [
    "7. Using the histograms from questions 5 and 6, decide a \"cutoff\" score for tokens and lemmas such that fewer than half the sentences would have a score greater than the cutoff score.  Record the scores in this Markdown cell\n",
    "\n",
    "* Cutoff Score (tokens): 0\n",
    "* Cutoff Score (lemmas): 0\n",
    "\n",
    "Feel free to change these scores as you generate your summaries.  Ideally, we're shooting for at least 6 sentences for our summary, but don't want more than 10 (these numbers are rough estimates; they depend on the length of your article).\n",
    "\n",
    "** I went ahead and used all of my sentences even though there were a lot because my sentence length was so short, maybe 3-4 words each. "
   ]
  },
  {
   "cell_type": "code",
   "execution_count": 58,
   "metadata": {},
   "outputs": [
    {
     "name": "stdout",
     "output_type": "stream",
     "text": [
      "Token cutoff score: 0.0\n",
      "Lemma cutoff score: 0.0\n"
     ]
    }
   ],
   "source": [
    "#Calculating cutoff scores for tokens and lemmas\n",
    "import numpy as np\n",
    "\n",
    "#Calc median score for tokens and lemmas\n",
    "token_cutoff_score = np.median(sentence_polarity_scores)\n",
    "lemma_cutoff_score = np.median(sentence_polarity_scores_lemma)\n",
    "\n",
    "#Print the scores\n",
    "print(\"Token cutoff score:\", token_cutoff_score)\n",
    "print(\"Lemma cutoff score:\", lemma_cutoff_score)"
   ]
  },
  {
   "cell_type": "markdown",
   "metadata": {},
   "source": [
    "### Question 8:"
   ]
  },
  {
   "cell_type": "markdown",
   "metadata": {},
   "source": [
    "8. Create a summary of the article by going through every sentence in the article and adding it to an (initially) empty list if its score (based on tokens) is greater than the cutoff score you identified in question 8.  If your loop variable is named `sent`, you may find it easier to add `sent.text.strip()` to your list of sentences.  Print the summary (I would cleanly generate the summary text by `join`ing the strings in your list together with a space (`' '.join(sentence_list)`)."
   ]
  },
  {
   "cell_type": "code",
   "execution_count": 59,
   "metadata": {},
   "outputs": [
    {
     "name": "stdout",
     "output_type": "stream",
     "text": [
      "Generated summary text (tokens)\n",
      "Your eyes, they shine so bright. . I want to save their light. .\n"
     ]
    }
   ],
   "source": [
    "#Create empy list for the summary\n",
    "summary_sentences_token = []\n",
    "\n",
    "#Loop through each sentence in the document\n",
    "for sent in doc.sents:\n",
    "    #Calc the polarity of the sentence based on tokens\n",
    "    sentence_score = calculate_polarity(\" \".join([token.text for token in sent if token.is_alpha and not token.is_space]))\n",
    "\n",
    "    #If polarity score is greater than cutoff, add it to the summary\n",
    "    if sentence_score > token_cutoff_score:\n",
    "        summary_sentences_token.append(sent.text.strip())\n",
    "\n",
    "#Create summary by joining sentences\n",
    "summary_token = ' '.join(summary_sentences_token)\n",
    "\n",
    "#Print the summary\n",
    "print(\"Generated summary text (tokens)\")\n",
    "print(summary_token)"
   ]
  },
  {
   "cell_type": "markdown",
   "metadata": {},
   "source": [
    "### Question 9:"
   ]
  },
  {
   "cell_type": "markdown",
   "metadata": {},
   "source": [
    "9. Print the polarity score of your summary you generated with the token scores (with an appropriate label). Additionally, print the number of sentences in the summarized article."
   ]
  },
  {
   "cell_type": "code",
   "execution_count": 60,
   "metadata": {},
   "outputs": [
    {
     "name": "stdout",
     "output_type": "stream",
     "text": [
      "Polarity score of the summary(tokens): 0.55\n",
      "Number of sentences in the summarized article(token): 2\n"
     ]
    }
   ],
   "source": [
    "#Calculate the polarity score of the summary based on tokens\n",
    "summary_polarity_score_token = calculate_polarity(\" \".join([token.text for token in nlp(summary_token)]))\n",
    "\n",
    "#Count the number of sentences in the summary\n",
    "summary_sentence_count_token = len([sent for sent in nlp(summary_token).sents])\n",
    "\n",
    "#Print the results\n",
    "print(f\"Polarity score of the summary(tokens): {summary_polarity_score_token}\")\n",
    "print(f\"Number of sentences in the summarized article(token): {summary_sentence_count_token}\")"
   ]
  },
  {
   "cell_type": "markdown",
   "metadata": {},
   "source": [
    "### Question 10:"
   ]
  },
  {
   "cell_type": "markdown",
   "metadata": {},
   "source": [
    "10. Create a summary of the article by going through every sentence in the article and adding it to an (initially) empty list if its score (based on lemmas) is greater than the cutoff score you identified in question 8.  If your loop variable is named `sent`, you may find it easier to add `sent.text.strip()` to your list of sentences.  Print the summary (I would cleanly generate the summary text by `join`ing the strings in your list together with a space (`' '.join(sentence_list)`)."
   ]
  },
  {
   "cell_type": "code",
   "execution_count": 61,
   "metadata": {},
   "outputs": [
    {
     "name": "stdout",
     "output_type": "stream",
     "text": [
      "Generated summary text (lemmas)\n",
      "When the lights fade out. . Your eyes, they shine so bright. . I want to save their light. .\n"
     ]
    }
   ],
   "source": [
    "#Create empy list for the summary\n",
    "summary_sentences_lemma = []\n",
    "\n",
    "#Loop through each sentence in the document\n",
    "for sent in doc.sents:\n",
    "    #Calc the polarity of the sentence based on lemmas\n",
    "    sentence_score_lemma = calculate_polarity(\" \".join([token.lemma_ for token in sent if token.is_alpha and not token.is_space]))\n",
    "\n",
    "    #If polarity score is greater than cutoff, add it to the summary\n",
    "    if sentence_score_lemma > lemma_cutoff_score:\n",
    "        summary_sentences_lemma.append(sent.text.strip())\n",
    "\n",
    "#Create summary by joining sentences\n",
    "summary_lemma = ' '.join(summary_sentences_lemma)\n",
    "\n",
    "#Print the summary\n",
    "print(\"Generated summary text (lemmas)\")\n",
    "print(summary_lemma)"
   ]
  },
  {
   "cell_type": "markdown",
   "metadata": {},
   "source": [
    "### Question 11:"
   ]
  },
  {
   "cell_type": "markdown",
   "metadata": {},
   "source": [
    "11. Print the polarity score of your summary you generated with the lemma scores (with an appropriate label). Additionally, print the number of sentences in the summarized article."
   ]
  },
  {
   "cell_type": "code",
   "execution_count": 62,
   "metadata": {},
   "outputs": [
    {
     "name": "stdout",
     "output_type": "stream",
     "text": [
      "Polarity score of the summary(lemmas): 0.55\n",
      "Number of sentences in the summarized article(lemmas): 4\n"
     ]
    }
   ],
   "source": [
    "#Calculate the polarity score of the summary based on tokens\n",
    "summary_polarity_score_lemma = calculate_polarity(\" \".join([token.lemma_ for token in nlp(summary_lemma)]))\n",
    "\n",
    "#Count the number of sentences in the summary\n",
    "summary_sentence_count_lemma = len([sent for sent in nlp(summary_lemma).sents])\n",
    "\n",
    "#Print the results\n",
    "print(f\"Polarity score of the summary(lemmas): {summary_polarity_score_token}\")\n",
    "print(f\"Number of sentences in the summarized article(lemmas): {summary_sentence_count_lemma}\")"
   ]
  },
  {
   "cell_type": "markdown",
   "metadata": {},
   "source": [
    "12.  Compare your polarity scores of your summaries to the polarity scores of the initial article.  Is there a difference?  Why do you think that may or may not be?.  Answer in this Markdown cell. \n",
    "\n",
    "Polarity score of full lyrics:\n",
    " - -0.19\n",
    "\n",
    "Scoring the summary lyrics using tokens and lemmas:\n",
    " - Tokens 0.55\n",
    " - Lemmas 0.55\n",
    "\n",
    "I think in this scenario, there such a difference in polarity scores because the original lyrics had 149 sentences with no cutoff applied. Whereas when I scored the summary lyrics there were far less sentences being analyzed (2 for token, 4 for lemmas). I believe the difference in negative and positive polarity scores has to do with the cutoff. For instance, I used a cutoff of zero so it only processed things above 0 which is a positive polarity, anything less than that would be negative and those were removed thus leading to positive polarity scores for both the summaried lyrics using lemmas and tokens. "
   ]
  },
  {
   "cell_type": "markdown",
   "metadata": {},
   "source": [
    "13. Based on your reading of the original article, which summary do you think is better (if there's a difference).  Why do you think this might be?\n",
    "\n",
    "Since I'm familiar with this song and these lyrics, I would say the polarity score of the original lyrics is probably the better option for scoring the lyrics. The song is about people dealing with many different hardships in life and having \"demons\" they are trying to fight. Using the summary, all of those are removed and it leads you to believe the lyrics are more positive than they really are. "
   ]
  },
  {
   "cell_type": "code",
   "execution_count": null,
   "metadata": {},
   "outputs": [],
   "source": []
  }
 ],
 "metadata": {
  "kernelspec": {
   "display_name": "Python (.venv)",
   "language": "python",
   "name": ".venv"
  },
  "language_info": {
   "codemirror_mode": {
    "name": "ipython",
    "version": 3
   },
   "file_extension": ".py",
   "mimetype": "text/x-python",
   "name": "python",
   "nbconvert_exporter": "python",
   "pygments_lexer": "ipython3",
   "version": "3.11.5"
  }
 },
 "nbformat": 4,
 "nbformat_minor": 4
}
